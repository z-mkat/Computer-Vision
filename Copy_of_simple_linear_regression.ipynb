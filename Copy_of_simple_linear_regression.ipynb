{
  "nbformat": 4,
  "nbformat_minor": 0,
  "metadata": {
    "colab": {
      "name": "Copy of simple_linear_regression.ipynb",
      "provenance": [],
      "collapsed_sections": [],
      "include_colab_link": true
    },
    "kernelspec": {
      "display_name": "Python 3",
      "language": "python",
      "name": "python3"
    },
    "language_info": {
      "codemirror_mode": {
        "name": "ipython",
        "version": 3
      },
      "file_extension": ".py",
      "mimetype": "text/x-python",
      "name": "python",
      "nbconvert_exporter": "python",
      "pygments_lexer": "ipython3",
      "version": "3.8.3"
    }
  },
  "cells": [
    {
      "cell_type": "markdown",
      "metadata": {
        "id": "view-in-github",
        "colab_type": "text"
      },
      "source": [
        "<a href=\"https://colab.research.google.com/github/z-mkat/Computer-Vision/blob/master/Copy_of_simple_linear_regression.ipynb\" target=\"_parent\"><img src=\"https://colab.research.google.com/assets/colab-badge.svg\" alt=\"Open In Colab\"/></a>"
      ]
    },
    {
      "cell_type": "markdown",
      "metadata": {
        "id": "l_LulNCC8z96"
      },
      "source": [
        "# Simple Linear Regression"
      ]
    },
    {
      "cell_type": "markdown",
      "metadata": {
        "id": "xpXdowrE9DxW"
      },
      "source": [
        "## Importing the libraries"
      ]
    },
    {
      "cell_type": "code",
      "metadata": {
        "id": "lo6IRFN2BJcv"
      },
      "source": [
        "import numpy as np\n",
        "import matplotlib.pyplot as plt\n",
        "import pandas as pd"
      ],
      "execution_count": 7,
      "outputs": []
    },
    {
      "cell_type": "markdown",
      "metadata": {
        "id": "6JhpWJi59J1p"
      },
      "source": [
        "## Importing the dataset"
      ]
    },
    {
      "cell_type": "code",
      "metadata": {
        "id": "zcDgNn1VBy3d"
      },
      "source": [
        "dataset = pd.read_csv('Salary_Data.csv')\n",
        "X = dataset.iloc[:, :-1].values\n",
        "Y = dataset.iloc[:, -1].values"
      ],
      "execution_count": 8,
      "outputs": []
    },
    {
      "cell_type": "markdown",
      "metadata": {
        "id": "AyhQaTwP9RzG"
      },
      "source": [
        "## Splitting the dataset into the Training set and Test set"
      ]
    },
    {
      "cell_type": "code",
      "metadata": {
        "id": "0Tsz9KMeCc1S"
      },
      "source": [
        "from sklearn.model_selection import train_test_split\n",
        "# y_test - real salaries\n",
        "X_train, X_test, y_train, y_test = train_test_split(X, Y, test_size = 0.2, random_state = 0)"
      ],
      "execution_count": 9,
      "outputs": []
    },
    {
      "cell_type": "markdown",
      "metadata": {
        "id": "ZijQwFMQ9itx"
      },
      "source": [
        "## Training the Simple Linear Regression model on the Training set"
      ]
    },
    {
      "cell_type": "code",
      "metadata": {
        "id": "34PabTlCDIdV"
      },
      "source": [
        "# import linear regression class\n",
        "from sklearn.linear_model import LinearRegression\n",
        "# instance of linear regression class\n",
        "regressor = LinearRegression()\n",
        "# fit method to train model\n",
        "regressor.fit(X_train, y_train)"
      ],
      "execution_count": null,
      "outputs": []
    },
    {
      "cell_type": "markdown",
      "metadata": {
        "id": "wa2T1Lq89o5H"
      },
      "source": [
        "## Predicting the Test set results"
      ]
    },
    {
      "cell_type": "code",
      "metadata": {
        "id": "EnhjlPAqGKT4"
      },
      "source": [
        "# y_pred - vector of predicted salaries \n",
        "y_pred = regressor.predict(X_test)"
      ],
      "execution_count": 13,
      "outputs": []
    },
    {
      "cell_type": "markdown",
      "metadata": {
        "id": "-zSoMZ-P9v8t"
      },
      "source": [
        "## Visualising the Training set results"
      ]
    },
    {
      "cell_type": "code",
      "metadata": {
        "id": "LGUzPj9kIN4e"
      },
      "source": [
        "# 2D plot with X-axis = yrs of experience Y-axis = salary\n",
        "# red point = real salaries\n",
        "# blue point = predicted salaries\n",
        "\n",
        "plt.scatter(X_train, y_train, color = 'red')\n",
        "# plots the regression line\n",
        "plt.plot(X_train, regressor.predict(X_train), color = 'blue')\n",
        "# title \n",
        "plt.title('Salary vs Experience (Training Set)')\n",
        "# x-label\n",
        "plt.xlabel('Years of Experience')\n",
        "# y-label\n",
        "plt.ylabel('Salary')\n",
        "# show the graphic\n",
        "plt.show()"
      ],
      "execution_count": null,
      "outputs": []
    },
    {
      "cell_type": "markdown",
      "metadata": {
        "id": "EUX1Vhsv97ZT"
      },
      "source": [
        "## Visualising the Test set results"
      ]
    },
    {
      "cell_type": "code",
      "metadata": {
        "id": "llkd2kcQKFn4"
      },
      "source": [
        "plt.scatter(X_test, y_test, color = 'red')\n",
        "# plots the regression line, don't have to replace X_train with X_test here because regression \n",
        "# predicted salaries from the test set, will be on the same regression line as \n",
        "# the predicted salaries from the training set. \n",
        "plt.plot(X_train, regressor.predict(X_train), color = 'blue')\n",
        "# title \n",
        "plt.title('Salary vs Experience (Test Set)')\n",
        "# x-label\n",
        "plt.xlabel('Years of Experience')\n",
        "# y-label\n",
        "plt.ylabel('Salary')\n",
        "# show the graphic\n",
        "plt.show()"
      ],
      "execution_count": null,
      "outputs": []
    }
  ]
}